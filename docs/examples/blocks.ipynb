{
 "cells": [
  {
   "cell_type": "code",
   "execution_count": 1,
   "metadata": {},
   "outputs": [],
   "source": [
    "# ======================================================\n",
    "#    Blocks World Program\n",
    "#\n",
    "#      This program was introduced in Chapter 8.\n",
    "#\n",
    "#      CLIPS Version 6.0 Example\n",
    "#\n",
    "#      To execute, merely load, reset and run.\n",
    "# ======================================================"
   ]
  },
  {
   "cell_type": "code",
   "execution_count": 2,
   "metadata": {},
   "outputs": [],
   "source": [
    "from pyknow import *"
   ]
  },
  {
   "cell_type": "code",
   "execution_count": 3,
   "metadata": {},
   "outputs": [],
   "source": [
    "class Goal(Fact):\n",
    "    pass\n",
    "\n",
    "class Stack(Fact):\n",
    "    pass"
   ]
  },
  {
   "cell_type": "code",
   "execution_count": 4,
   "metadata": {},
   "outputs": [],
   "source": [
    "class Blocks(KnowledgeEngine):\n",
    "    @DefFacts()\n",
    "    def initial_state(self):\n",
    "        yield Stack(\"A\", \"B\", \"C\")\n",
    "        yield Stack(\"D\", \"E\", \"F\")\n",
    "        yield Goal(move=\"C\", on_top_of=\"E\")\n",
    "        yield Stack()\n",
    "    \n",
    "    @Rule(\n",
    "        AS.goal << Goal(move=MATCH.block1, on_top_of=MATCH.block2),\n",
    "        AS.stack1 << Stack(MATCH.block1, +MATCH.rest1),\n",
    "        AS.stack2 << Stack(MATCH.block2, +MATCH.rest2)\n",
    "    )\n",
    "    def move_directly(self, goal, block1, block2, stack1, stack2, rest1, rest2):\n",
    "        self.retract(goal)\n",
    "        self.retract(stack1)\n",
    "        self.retract(stack2)\n",
    "        self.declare(Stack(*rest1))\n",
    "        self.declare(Stack(block1, block2, *rest2))\n",
    "        print(block1, \"moved on top of\", block2)\n",
    "        \n",
    "    @Rule(\n",
    "        AS.goal << Goal(move=MATCH.block1, on_top_of=\"floor\"),\n",
    "        AS.stack1 << Stack(MATCH.block1, +MATCH.rest)\n",
    "    )\n",
    "    def move_to_floor(self, goal, stack1, block1, rest):\n",
    "        self.retract(goal)\n",
    "        self.retract(stack1)\n",
    "        self.declare(Stack(block1))\n",
    "        self.declare(Stack(*rest))\n",
    "        print(block1, \"moved on top of floor\")\n",
    "\n",
    "    @Rule(\n",
    "        Goal(move=MATCH.block1),\n",
    "        Stack(MATCH.top, +MATCH.others),\n",
    "        TEST(lambda block1, others: block1 in others)\n",
    "    )\n",
    "    def clear_upper_block(self, top):\n",
    "        self.declare(Goal(move=top, on_top_of=\"floor\"))\n",
    "    \n",
    "    @Rule(\n",
    "        Goal(on_top_of=MATCH.block1),\n",
    "        Stack(MATCH.top, +MATCH.others),\n",
    "        TEST(lambda block1, others: block1 in others)\n",
    "    )\n",
    "    def clear_lower_block(self, top):\n",
    "        self.declare(Goal(move=top, on_top_of=\"floor\"))"
   ]
  },
  {
   "cell_type": "code",
   "execution_count": 5,
   "metadata": {},
   "outputs": [
    {
     "name": "stdout",
     "output_type": "stream",
     "text": [
      "D moved on top of floor\n",
      "A moved on top of floor\n",
      "B moved on top of floor\n",
      "C moved on top of E\n"
     ]
    }
   ],
   "source": [
    "ke=Blocks()\n",
    "ke.reset()\n",
    "ke.run()"
   ]
  }
 ],
 "metadata": {
  "kernelspec": {
   "display_name": "Python 3",
   "language": "python",
   "name": "python3"
  },
  "language_info": {
   "codemirror_mode": {
    "name": "ipython",
    "version": 3
   },
   "file_extension": ".py",
   "mimetype": "text/x-python",
   "name": "python",
   "nbconvert_exporter": "python",
   "pygments_lexer": "ipython3",
   "version": "3.5.3"
  }
 },
 "nbformat": 4,
 "nbformat_minor": 2
}
